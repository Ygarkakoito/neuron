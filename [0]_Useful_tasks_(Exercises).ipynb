{
  "cells": [
    {
      "cell_type": "markdown",
      "metadata": {
        "id": "view-in-github",
        "colab_type": "text"
      },
      "source": [
        "<a href=\"https://colab.research.google.com/github/Ygarkakoito/neuron/blob/main/%5B0%5D_Useful_tasks_(Exercises).ipynb\" target=\"_parent\"><img src=\"https://colab.research.google.com/assets/colab-badge.svg\" alt=\"Open In Colab\"/></a>"
      ]
    },
    {
      "cell_type": "markdown",
      "metadata": {
        "id": "HGEx8XBcLRn4"
      },
      "source": [
        "## Полезные задачки для дальнейшей работы с искусственными нейронными сетями"
      ]
    },
    {
      "cell_type": "markdown",
      "metadata": {
        "id": "qJOWwTELLRn7"
      },
      "source": [
        "## Работа с изображениями\n",
        "\n",
        "Все изображения представляют собой матрицы чисел (или многомерные векторы), которые кодируют цвета отдельных пикселей. Для изображений высоты $H$, ширины $W$ с $C$ цветовыми каналами получаем упорядоченный набор  $H \\times W \\times C$ чисел.\n",
        "\n",
        "<img src =\"https://edunet.kea.su/repo/EduNet-content/L01/out/img_to_array.png\" width=\"1000\" >\n",
        "\n",
        "Например, датасет CIFAR-10 содержит цветные (трехцветные) изображения размером $32 \\times 32$ пикселя. Таким образом, каждое изображение из датасета является точкой в $3072$-мерном ($32 \\times 32 \\times 3 = 3072$) вещественном пространстве.\n",
        "\n",
        "То есть все изображения по сути являются векторами, заполненными числами. В python есть несколько бибилиотек, которые отвечают за работу с векторами. Самыми часто используемыми для нейронных сетей -- библиотеки numpy и PyTorch."
      ]
    },
    {
      "cell_type": "markdown",
      "metadata": {
        "id": "GZOTiRFWLRn8"
      },
      "source": [
        "Посмотрим на одну из цифр из набора данных MNIST, как её видим мы:"
      ]
    },
    {
      "cell_type": "code",
      "execution_count": null,
      "metadata": {
        "id": "EGZwG0ICLRn9",
        "outputId": "82f96191-be48-4004-9352-5990d449ae2f"
      },
      "outputs": [
        {
          "data": {
            "image/png": "[encoded data removed]",
            "text/plain": [
              "<Figure size 640x480 with 1 Axes>"
            ]
          },
          "metadata": {},
          "output_type": "display_data"
        }
      ],
      "source": [
        "import numpy as np\n",
        "from PIL import Image\n",
        "from torchvision import utils\n",
        "import matplotlib.pyplot as plt\n",
        "\n",
        "image = Image.open(\"assets/digit.png\")\n",
        "img_np = np.array(image)\n",
        "plt.imshow(img_np, cmap=\"gray\")\n",
        "plt.show()"
      ]
    },
    {
      "cell_type": "markdown",
      "metadata": {
        "id": "mDRWz0Z0LRoC"
      },
      "source": [
        "И как она записана в компьютере -- в виде набора векторов (матрицы):"
      ]
    },
    {
      "cell_type": "code",
      "execution_count": null,
      "metadata": {
        "id": "neRaQ2NZLRoC",
        "outputId": "d9ef0260-7c53-45e4-b377-543736e3b6d3"
      },
      "outputs": [
        {
          "name": "stdout",
          "output_type": "stream",
          "text": [
            "[[  0   0   0   0   0   0   0   0   0   0   0   0   0   0   0   0]\n",
            " [  0   0   0   0   0   0   0   0   0   0   0   0   0   0   0   0]\n",
            " [  0   0   0   0   0   0   0   0  12  15  20  12   1   0   0   0]\n",
            " [  0   0   0   0   0   0   3 123 225 242 255 225 137   7   0   0]\n",
            " [  0   0   0   0   0  15 207 251 103 109 107 105 171 145   0   0]\n",
            " [  0   0   0   0   0 149 236  80   0   0   0   0   4  21   0   0]\n",
            " [  0   0   0   0  16 228 106   0  17  33  17   0   0   0   0   0]\n",
            " [  0   0   0   0  97 248  98 138 232 255 216  22   0   0   0   0]\n",
            " [  0   0   0   0  50 247 255 197 111 123 252 129   0   0   0   0]\n",
            " [  0   0   0   0   1  54  55   9   0  49 250 116   0   0   0   0]\n",
            " [  0   0   0   0   0   0   0   0   0 158 240  44   0   0   0   0]\n",
            " [  0   0   0   0   0   0   0   0  88 255 125   0   0   0   0   0]\n",
            " [  0   0   0   0   7  15  23 132 255 188  12   0   0   0   0   0]\n",
            " [  0   0   0   0  20 200 229 240 157  28   0   0   0   0   0   0]\n",
            " [  0   0   0   0   3  64  73  45   0   0   0   0   0   0   0   0]\n",
            " [  0   0   0   0   0   0   0   0   0   0   0   0   0   0   0   0]]\n"
          ]
        }
      ],
      "source": [
        "print(img_np)"
      ]
    },
    {
      "cell_type": "markdown",
      "metadata": {
        "id": "LFZbtsSxLRoD"
      },
      "source": [
        "Подключить библиотеки numpy (для более короткой записи кода и простоты её полное название сокращают до np) и torch, чтобы обеспечить работу с векторами:"
      ]
    },
    {
      "cell_type": "code",
      "execution_count": 1,
      "metadata": {
        "id": "DltzFhvaLRoD"
      },
      "outputs": [],
      "source": [
        "import numpy as np\n",
        "import torch"
      ]
    },
    {
      "cell_type": "markdown",
      "metadata": {
        "id": "VV3aezF1LRoD"
      },
      "source": [
        "Рассмотрим основные операции для работы с тензорами.\n",
        "Создать экземпляр класса [Tensor](https://pytorch.org/docs/stable/tensors.html#torch.Tensor).\n",
        "Определение из документации: A torch.Tensor is a multi-dimensional matrix containing elements of a single data type."
      ]
    },
    {
      "cell_type": "code",
      "execution_count": 2,
      "metadata": {
        "colab": {
          "base_uri": "https://localhost:8080/"
        },
        "id": "beWFyHOmLRoD",
        "outputId": "e2fcb9ad-a3aa-4d21-fb27-53b94d377834"
      },
      "outputs": [
        {
          "output_type": "execute_result",
          "data": {
            "text/plain": [
              "tensor([])"
            ]
          },
          "metadata": {},
          "execution_count": 2
        }
      ],
      "source": [
        "e = torch.Tensor()\n",
        "e"
      ]
    },
    {
      "cell_type": "markdown",
      "metadata": {
        "id": "Alvv0ZpMLRoE"
      },
      "source": [
        "Записать вектор [1.1, 2.2, 3.2] в виде тензора и вывести его тип при помощи функции type."
      ]
    },
    {
      "cell_type": "code",
      "execution_count": 4,
      "metadata": {
        "id": "Z5Y2miz4LRoE"
      },
      "outputs": [],
      "source": [
        "a = torch.tensor([1.1,2.,3,2])2\n",
        "## WRITE YOUR CODE HERE"
      ]
    },
    {
      "cell_type": "markdown",
      "metadata": {
        "id": "wGI0jNQNLRoE"
      },
      "source": [
        "Вопрос: чем принципиально отличаются записи a = torch.Tensor() и b = torch.tensor()? Что будет на выходе для a и для b?"
      ]
    },
    {
      "cell_type": "code",
      "execution_count": 3,
      "metadata": {
        "colab": {
          "base_uri": "https://localhost:8080/",
          "height": 244
        },
        "id": "tn7dtwTeLRoE",
        "outputId": "4e82021d-07f5-4b2e-b1d5-48d03eef023a"
      },
      "outputs": [
        {
          "output_type": "stream",
          "name": "stdout",
          "text": [
            "a:  tensor([])\n"
          ]
        },
        {
          "output_type": "error",
          "ename": "TypeError",
          "evalue": "ignored",
          "traceback": [
            "\u001b[0;31m---------------------------------------------------------------------------\u001b[0m",
            "\u001b[0;31mTypeError\u001b[0m                                 Traceback (most recent call last)",
            "\u001b[0;32m<ipython-input-3-9c08979f04f8>\u001b[0m in \u001b[0;36m<cell line: 3>\u001b[0;34m()\u001b[0m\n\u001b[1;32m      1\u001b[0m \u001b[0ma\u001b[0m \u001b[0;34m=\u001b[0m \u001b[0mtorch\u001b[0m\u001b[0;34m.\u001b[0m\u001b[0mTensor\u001b[0m\u001b[0;34m(\u001b[0m\u001b[0;34m)\u001b[0m\u001b[0;34m\u001b[0m\u001b[0;34m\u001b[0m\u001b[0m\n\u001b[1;32m      2\u001b[0m \u001b[0mprint\u001b[0m\u001b[0;34m(\u001b[0m\u001b[0;34m'a: '\u001b[0m\u001b[0;34m,\u001b[0m \u001b[0ma\u001b[0m\u001b[0;34m)\u001b[0m\u001b[0;34m\u001b[0m\u001b[0;34m\u001b[0m\u001b[0m\n\u001b[0;32m----> 3\u001b[0;31m \u001b[0mb\u001b[0m \u001b[0;34m=\u001b[0m \u001b[0mtorch\u001b[0m\u001b[0;34m.\u001b[0m\u001b[0mtensor\u001b[0m\u001b[0;34m(\u001b[0m\u001b[0;34m)\u001b[0m\u001b[0;34m\u001b[0m\u001b[0;34m\u001b[0m\u001b[0m\n\u001b[0m\u001b[1;32m      4\u001b[0m \u001b[0mprint\u001b[0m\u001b[0;34m(\u001b[0m\u001b[0;34m\"b: \"\u001b[0m\u001b[0;34m,\u001b[0m \u001b[0mb\u001b[0m\u001b[0;34m)\u001b[0m\u001b[0;34m\u001b[0m\u001b[0;34m\u001b[0m\u001b[0m\n",
            "\u001b[0;31mTypeError\u001b[0m: tensor() missing 1 required positional arguments: \"data\""
          ]
        }
      ],
      "source": [
        "a = torch.Tensor()\n",
        "print('a: ', a)\n",
        "b = torch.tensor()\n",
        "print(\"b: \", b)"
      ]
    },
    {
      "cell_type": "markdown",
      "metadata": {
        "id": "QXhv3WvcLRoF"
      },
      "source": [
        "Создать тензор [1.1, 2.2, 3.2] указанного типа float64. Использовать параметр dtype:"
      ]
    },
    {
      "cell_type": "code",
      "execution_count": 8,
      "metadata": {
        "colab": {
          "base_uri": "https://localhost:8080/"
        },
        "id": "WiajHDsXLRoF",
        "outputId": "9c836f32-5f83-479b-cee2-2fb6ce5b7d55"
      },
      "outputs": [
        {
          "output_type": "execute_result",
          "data": {
            "text/plain": [
              "torch.float32"
            ]
          },
          "metadata": {},
          "execution_count": 8
        }
      ],
      "source": [
        "a = torch.tensor([1.1,2.,3,2])\n",
        "a.dtype"
      ]
    },
    {
      "cell_type": "markdown",
      "metadata": {
        "id": "vaIVxCtPLRoF"
      },
      "source": [
        "Записать вектор [1.1, 2.2, 3.2] в виде тензора и вывести тип данных, которые помещены в тензор. Для этого так же использовать dtype."
      ]
    },
    {
      "cell_type": "code",
      "execution_count": 9,
      "metadata": {
        "colab": {
          "base_uri": "https://localhost:8080/"
        },
        "id": "VOifdWUYLRoF",
        "outputId": "430b0a5a-bc89-41fd-8314-16f28922310f"
      },
      "outputs": [
        {
          "output_type": "execute_result",
          "data": {
            "text/plain": [
              "tensor([[2.5000, 2.5000],\n",
              "        [2.5000, 2.5000],\n",
              "        [2.5000, 2.5000]])"
            ]
          },
          "metadata": {},
          "execution_count": 9
        }
      ],
      "source": [
        "a = torch.full((3,2),2.5)\n",
        "a"
      ]
    },
    {
      "cell_type": "markdown",
      "metadata": {
        "id": "PGJgA_1BLRoF"
      },
      "source": [
        "Создать вектор размерности $3 \\times 2$ и заполнить его указанным значением 2.5."
      ]
    },
    {
      "cell_type": "code",
      "execution_count": 10,
      "metadata": {
        "colab": {
          "base_uri": "https://localhost:8080/",
          "height": 227
        },
        "id": "qFcT47_xLRoG",
        "outputId": "5b1165f6-c593-4b7d-c757-1e5026101e3c"
      },
      "outputs": [
        {
          "output_type": "error",
          "ename": "TypeError",
          "evalue": "ignored",
          "traceback": [
            "\u001b[0;31m---------------------------------------------------------------------------\u001b[0m",
            "\u001b[0;31mTypeError\u001b[0m                                 Traceback (most recent call last)",
            "\u001b[0;32m<ipython-input-10-2d957a961c11>\u001b[0m in \u001b[0;36m<cell line: 1>\u001b[0;34m()\u001b[0m\n\u001b[0;32m----> 1\u001b[0;31m \u001b[0ma\u001b[0m \u001b[0;34m=\u001b[0m \u001b[0mtorch\u001b[0m\u001b[0;34m.\u001b[0m\u001b[0mfull\u001b[0m\u001b[0;34m(\u001b[0m\u001b[0msize\u001b[0m\u001b[0;34m=\u001b[0m\u001b[0;34m(\u001b[0m\u001b[0;36m3\u001b[0m\u001b[0;34m,\u001b[0m\u001b[0;36m2\u001b[0m\u001b[0;34m)\u001b[0m\u001b[0;34m)\u001b[0m\u001b[0;34m\u001b[0m\u001b[0;34m\u001b[0m\u001b[0m\n\u001b[0m\u001b[1;32m      2\u001b[0m \u001b[0ma\u001b[0m\u001b[0;34m\u001b[0m\u001b[0;34m\u001b[0m\u001b[0m\n",
            "\u001b[0;31mTypeError\u001b[0m: full() received an invalid combination of arguments - got (size=tuple, ), but expected one of:\n * (tuple of ints size, Number fill_value, *, tuple of names names, torch.dtype dtype, torch.layout layout, torch.device device, bool pin_memory, bool requires_grad)\n * (tuple of ints size, Number fill_value, *, Tensor out, torch.dtype dtype, torch.layout layout, torch.device device, bool pin_memory, bool requires_grad)\n"
          ]
        }
      ],
      "source": [
        "a = torch.full(size=(3,2))\n",
        "a"
      ]
    },
    {
      "cell_type": "markdown",
      "metadata": {
        "id": "E89W3f15LRoG"
      },
      "source": [
        "Создать тензор размерности $3 \\times 2$ и заполнить его единицами."
      ]
    },
    {
      "cell_type": "code",
      "execution_count": 11,
      "metadata": {
        "colab": {
          "base_uri": "https://localhost:8080/",
          "height": 244
        },
        "id": "JemjcQOyLRoG",
        "outputId": "d10d0063-ce7b-4ad2-ef76-0908579077cd"
      },
      "outputs": [
        {
          "output_type": "error",
          "ename": "TypeError",
          "evalue": "ignored",
          "traceback": [
            "\u001b[0;31m---------------------------------------------------------------------------\u001b[0m",
            "\u001b[0;31mTypeError\u001b[0m                                 Traceback (most recent call last)",
            "\u001b[0;32m<ipython-input-11-6579926db06d>\u001b[0m in \u001b[0;36m<cell line: 1>\u001b[0;34m()\u001b[0m\n\u001b[0;32m----> 1\u001b[0;31m \u001b[0ma\u001b[0m \u001b[0;34m=\u001b[0m \u001b[0mtorch\u001b[0m\u001b[0;34m.\u001b[0m\u001b[0mones\u001b[0m\u001b[0;34m(\u001b[0m\u001b[0;34m(\u001b[0m\u001b[0;36m3\u001b[0m\u001b[0;34m,\u001b[0m\u001b[0;36m2\u001b[0m\u001b[0;34m)\u001b[0m\u001b[0;34m,\u001b[0m\u001b[0;36m2.5\u001b[0m\u001b[0;34m)\u001b[0m\u001b[0;34m\u001b[0m\u001b[0;34m\u001b[0m\u001b[0m\n\u001b[0m\u001b[1;32m      2\u001b[0m \u001b[0ma\u001b[0m\u001b[0;34m\u001b[0m\u001b[0;34m\u001b[0m\u001b[0m\n\u001b[1;32m      3\u001b[0m \u001b[0ma\u001b[0m\u001b[0;34m.\u001b[0m\u001b[0mdtype\u001b[0m\u001b[0;34m\u001b[0m\u001b[0;34m\u001b[0m\u001b[0m\n",
            "\u001b[0;31mTypeError\u001b[0m: ones() received an invalid combination of arguments - got (tuple, float), but expected one of:\n * (tuple of ints size, *, tuple of names names, torch.dtype dtype, torch.layout layout, torch.device device, bool pin_memory, bool requires_grad)\n * (tuple of ints size, *, Tensor out, torch.dtype dtype, torch.layout layout, torch.device device, bool pin_memory, bool requires_grad)\n"
          ]
        }
      ],
      "source": [
        "a = torch.ones((3,2),2.5)\n",
        "a\n",
        "a.dtype"
      ]
    },
    {
      "cell_type": "markdown",
      "metadata": {
        "id": "jroC44k5LRoH"
      },
      "source": [
        "Создать тензор размерности $2 \\times 3 \\times 4$ и заполнить его нулями."
      ]
    },
    {
      "cell_type": "code",
      "execution_count": null,
      "metadata": {
        "id": "N7ppUN5ULRoH",
        "outputId": "206e04c5-e448-43cf-8101-3ecbfc3bfcac"
      },
      "outputs": [
        {
          "data": {
            "text/plain": [
              "tensor([[[0., 0., 0., 0.],\n",
              "         [0., 0., 0., 0.],\n",
              "         [0., 0., 0., 0.]],\n",
              "\n",
              "        [[0., 0., 0., 0.],\n",
              "         [0., 0., 0., 0.],\n",
              "         [0., 0., 0., 0.]]])"
            ]
          },
          "execution_count": 26,
          "metadata": {},
          "output_type": "execute_result"
        }
      ],
      "source": [
        "b = ## WRITE YOUR CODE HERE\n",
        "b"
      ]
    },
    {
      "cell_type": "markdown",
      "metadata": {
        "id": "WbY2cOMLLRoI"
      },
      "source": [
        "Создать тензор размерности 3 строки и 4 стоблца, заполненный случайными числами."
      ]
    },
    {
      "cell_type": "code",
      "execution_count": 12,
      "metadata": {
        "colab": {
          "base_uri": "https://localhost:8080/"
        },
        "id": "RKm4Cpj5LRoI",
        "outputId": "8ca735ce-a52a-46b5-aecc-4dd39f31dcf9"
      },
      "outputs": [
        {
          "output_type": "execute_result",
          "data": {
            "text/plain": [
              "tensor([[-1.0881,  0.1997,  0.0820, -0.0912],\n",
              "        [ 1.2779,  0.0344, -2.1910, -2.4152],\n",
              "        [ 0.5511, -0.2265,  0.3425,  2.2303]])"
            ]
          },
          "metadata": {},
          "execution_count": 12
        }
      ],
      "source": [
        "x = torch.randn(3,4)\n",
        "x"
      ]
    },
    {
      "cell_type": "markdown",
      "metadata": {
        "id": "vuNVhP7uLRoI"
      },
      "source": [
        "Создать тензор - вектор размерности $1 \\times 5$, заполненный целыми случайными числами от 0 до 100."
      ]
    },
    {
      "cell_type": "code",
      "execution_count": 14,
      "metadata": {
        "colab": {
          "base_uri": "https://localhost:8080/"
        },
        "id": "JD2SN2Z8LRoI",
        "outputId": "dd20d9a8-599d-41ec-b3f4-0c52de60f876"
      },
      "outputs": [
        {
          "output_type": "stream",
          "name": "stdout",
          "text": [
            "tensor([96, 66,  3,  1, 76])\n"
          ]
        }
      ],
      "source": [
        "y = torch.randint(100,[5])\n",
        "print(y)"
      ]
    },
    {
      "cell_type": "markdown",
      "metadata": {
        "id": "KLnv2FnYLRoJ"
      },
      "source": [
        "Создать вектор размерности $2 \\times 3$ и заполнить его целыми числами от -10 до 10."
      ]
    },
    {
      "cell_type": "code",
      "execution_count": 15,
      "metadata": {
        "colab": {
          "base_uri": "https://localhost:8080/"
        },
        "id": "qLQSUHmHLRoJ",
        "outputId": "1b25d203-b2a4-4fb6-8229-7e4e18ccfa1d"
      },
      "outputs": [
        {
          "output_type": "execute_result",
          "data": {
            "text/plain": [
              "tensor([[ 5, -2, -9],\n",
              "        [-9,  6, -8]])"
            ]
          },
          "metadata": {},
          "execution_count": 15
        }
      ],
      "source": [
        "a = torch.randint(-10,10,(2,3))\n",
        "a"
      ]
    },
    {
      "cell_type": "markdown",
      "metadata": {
        "id": "2GM3ve79LRoJ"
      },
      "source": [
        "Для того, чтобы все величины, которые мы создаём при помощи датчика случайных чисел, создались один раз и не изменяли своего значения, надо зафиксировать базовое число --- это делается при помощи функции torch.manual_seed().\n",
        "Функция torch.randn_like(x) возвращает тензор того же размера, что и x, который заполнен случайными числами из нормального распределения со средним 0 и дисперсией 1."
      ]
    },
    {
      "cell_type": "code",
      "execution_count": 16,
      "metadata": {
        "colab": {
          "base_uri": "https://localhost:8080/"
        },
        "id": "HFtJoUalLRoJ",
        "outputId": "72eb4d8a-3a47-4586-db96-e0e043524af2"
      },
      "outputs": [
        {
          "output_type": "stream",
          "name": "stdout",
          "text": [
            "a = tensor([[-0.1468,  0.7861,  0.9468, -1.1143,  1.6908]]),\n",
            "b = tensor([[-0.8948, -0.3556,  1.2324,  0.1382, -1.6822]])\n"
          ]
        }
      ],
      "source": [
        "torch.manual_seed(7)\n",
        "a =torch.randn(1,5)\n",
        "b = torch.randn_like(a)\n",
        "print(f'a = {a},\\nb = {b}'.format(a, b))"
      ]
    },
    {
      "cell_type": "markdown",
      "metadata": {
        "id": "othwHQBVLRoL"
      },
      "source": [
        "Создать вектор размерности $3 \\times 2$ и заполнить его указанным значением 2.5."
      ]
    },
    {
      "cell_type": "code",
      "execution_count": 17,
      "metadata": {
        "colab": {
          "base_uri": "https://localhost:8080/"
        },
        "id": "3e39NYSzLRoL",
        "outputId": "eaf2af05-6371-4254-8e4c-381241fcf21c"
      },
      "outputs": [
        {
          "output_type": "execute_result",
          "data": {
            "text/plain": [
              "tensor([[2.5000, 2.5000],\n",
              "        [2.5000, 2.5000],\n",
              "        [2.5000, 2.5000]])"
            ]
          },
          "metadata": {},
          "execution_count": 17
        }
      ],
      "source": [
        "a = torch.full((3,2),2.5)\n",
        "a"
      ]
    },
    {
      "cell_type": "markdown",
      "metadata": {
        "id": "SEmUNQTxLRoL"
      },
      "source": [
        "Для выполнения операций умножения на веса или на матрицы свёрток (для свёрточных нейронных сетей), необходимо вытянуть матрицу, которой представлено изображение:"
      ]
    },
    {
      "cell_type": "code",
      "execution_count": null,
      "metadata": {
        "id": "5zxX2HUTLRoL",
        "outputId": "7dacef29-742b-40d6-ecec-ec4cb90b037b"
      },
      "outputs": [
        {
          "name": "stdout",
          "output_type": "stream",
          "text": [
            "[0, 0, 0, 0, 0, 0, 0, 0, 0, 0, 0, 0, 0, 0, 0, 0, 0, 0, 0, 0, 0, 0, 0, 0, 0, 0, 0, 0, 0, 0, 0, 0, 0, 0, 0, 0, 0, 0, 0, 0, 12, 15, 20, 12, 1, 0, 0, 0, 0, 0, 0, 0, 0, 0, 3, 123, 225, 242, 255, 225, 137, 7, 0, 0, 0, 0, 0, 0, 0, 15, 207, 251, 103, 109, 107, 105, 171, 145, 0, 0, 0, 0, 0, 0, 0, 149, 236, 80, 0, 0, 0, 0, 4, 21, 0, 0, 0, 0, 0, 0, 16, 228, 106, 0, 17, 33, 17, 0, 0, 0, 0, 0, 0, 0, 0, 0, 97, 248, 98, 138, 232, 255, 216, 22, 0, 0, 0, 0, 0, 0, 0, 0, 50, 247, 255, 197, 111, 123, 252, 129, 0, 0, 0, 0, 0, 0, 0, 0, 1, 54, 55, 9, 0, 49, 250, 116, 0, 0, 0, 0, 0, 0, 0, 0, 0, 0, 0, 0, 0, 158, 240, 44, 0, 0, 0, 0, 0, 0, 0, 0, 0, 0, 0, 0, 88, 255, 125, 0, 0, 0, 0, 0, 0, 0, 0, 0, 7, 15, 23, 132, 255, 188, 12, 0, 0, 0, 0, 0, 0, 0, 0, 0, 20, 200, 229, 240, 157, 28, 0, 0, 0, 0, 0, 0, 0, 0, 0, 0, 3, 64, 73, 45, 0, 0, 0, 0, 0, 0, 0, 0, 0, 0, 0, 0, 0, 0, 0, 0, 0, 0, 0, 0, 0, 0, 0, 0]\n"
          ]
        },
        {
          "data": {
            "image/png": "[encoded data removed]",
            "text/plain": [
              "<Figure size 1000x400 with 2 Axes>"
            ]
          },
          "metadata": {},
          "output_type": "display_data"
        }
      ],
      "source": [
        "fig, ax = plt.subplots(ncols=2, figsize=(10, 4))\n",
        "ax[0].imshow(img_np, cmap=\"gray\")\n",
        "ax[1].imshow(img_np.reshape(1, -1), aspect=20, cmap=\"gray\")\n",
        "ax[0].set_title(\"Original image\")\n",
        "ax[1].set_title(\"Flattened image\")\n",
        "\n",
        "vector = np.array(image).flatten()\n",
        "print(list(vector))"
      ]
    },
    {
      "cell_type": "markdown",
      "metadata": {
        "id": "JvNp3FnWLRoM"
      },
      "source": [
        "Вытянуть тензор в одну линию можно при помощи функции flatten:"
      ]
    },
    {
      "cell_type": "code",
      "execution_count": 18,
      "metadata": {
        "colab": {
          "base_uri": "https://localhost:8080/"
        },
        "id": "TwpBZGFtLRoM",
        "outputId": "26d72acb-2f11-4568-aab1-0e3991f49471"
      },
      "outputs": [
        {
          "output_type": "stream",
          "name": "stdout",
          "text": [
            "torch.Size([2, 2, 2])\n",
            "tensor([1, 2, 3, 4, 5, 6, 7, 8])\n"
          ]
        }
      ],
      "source": [
        "t = torch.tensor([[[1, 2], [3, 4]], [[5, 6], [7, 8]]])\n",
        "print(t.shape)\n",
        "print(torch.flatten(t))"
      ]
    },
    {
      "cell_type": "markdown",
      "metadata": {
        "id": "qvAoNf6vLRoM"
      },
      "source": [
        "Можно добавить в функцию flatten параметры, показывающие, с какого измерение по какое спрямлять тензор:"
      ]
    },
    {
      "cell_type": "code",
      "execution_count": null,
      "metadata": {
        "id": "Qclq_yoJLRoO",
        "outputId": "4b5ba6f6-f19e-4385-fdbf-8be56a0b8c26"
      },
      "outputs": [
        {
          "name": "stdout",
          "output_type": "stream",
          "text": [
            "tensor([[1, 2],\n",
            "        [3, 4],\n",
            "        [5, 6],\n",
            "        [7, 8]]) torch.Size([4, 2])\n"
          ]
        }
      ],
      "source": [
        "t_new = torch.flatten(t, start_dim=0, end_dim=1)\n",
        "print(t_new, t_new.shape)"
      ]
    },
    {
      "cell_type": "markdown",
      "metadata": {
        "id": "wNOOBA9jLRoP"
      },
      "source": [
        "Ещё есть возможность, позволяющая представить вектор x в виде одномерного вектора (вытянуть в линию и в столбик все значения x) при помощи функции view:"
      ]
    },
    {
      "cell_type": "code",
      "execution_count": null,
      "metadata": {
        "id": "FXRqsqraLRoP",
        "outputId": "e5635086-47fa-422e-f15d-70dd53e10a43"
      },
      "outputs": [
        {
          "name": "stdout",
          "output_type": "stream",
          "text": [
            "tensor([[-1.1434, -0.1035,  0.5756, -1.5654,  0.2323,  0.5961,  0.1848,  0.3316,\n",
            "         -0.1153, -0.2433,  1.0107,  0.2711]]) \n",
            " tensor([[-1.1434],\n",
            "        [-0.1035],\n",
            "        [ 0.5756],\n",
            "        [-1.5654],\n",
            "        [ 0.2323],\n",
            "        [ 0.5961],\n",
            "        [ 0.1848],\n",
            "        [ 0.3316],\n",
            "        [-0.1153],\n",
            "        [-0.2433],\n",
            "        [ 1.0107],\n",
            "        [ 0.2711]])\n"
          ]
        }
      ],
      "source": [
        "x_row = x.view(-1, 12)\n",
        "x_column = x.view(12, -1)\n",
        "print(x_row,'\\n',x_column)"
      ]
    },
    {
      "cell_type": "markdown",
      "metadata": {
        "id": "0VCSQrs5LRoP"
      },
      "source": [
        "В целом функция view может поменять форму тензора на любую допустимую. Изменить форму вектора x на $2 \\times 6$.\n"
      ]
    },
    {
      "cell_type": "code",
      "execution_count": 20,
      "metadata": {
        "colab": {
          "base_uri": "https://localhost:8080/"
        },
        "id": "0bklEwysLRoQ",
        "outputId": "b9fb58dc-1abd-4124-9f2f-7646e3274e0b"
      },
      "outputs": [
        {
          "output_type": "execute_result",
          "data": {
            "text/plain": [
              "tensor([[[-1.0881,  0.1997],\n",
              "         [ 0.0820, -0.0912]],\n",
              "\n",
              "        [[ 1.2779,  0.0344],\n",
              "         [-2.1910, -2.4152]],\n",
              "\n",
              "        [[ 0.5511, -0.2265],\n",
              "         [ 0.3425,  2.2303]]])"
            ]
          },
          "metadata": {},
          "execution_count": 20
        }
      ],
      "source": [
        "x = x.view(3,2,2)\n",
        "x"
      ]
    },
    {
      "cell_type": "markdown",
      "metadata": {
        "id": "nv-za4VXLRoQ"
      },
      "source": [
        "## Операции умножения внутри нейрона\n",
        "\n",
        "Модель нейрона взята из биологии и структура повторяет процесс передачи информации через нейрон. Входной сигнал обрабатывается и дальше принимается решение, насколько он важен и передавать ли его дальше.\n",
        "\n",
        "![Neuron.png](attachment:Neuron.png)\n"
      ]
    },
    {
      "cell_type": "markdown",
      "metadata": {
        "id": "Y-AysSgRLRoQ"
      },
      "source": [
        "Та же логика ипользовалась при создании модели искусственного нейрона: входные данные умножаются на веса, передаются функции активации, которая их преобразует и передаёт дальше:\n",
        "![NN_sheme_with_biology.png](attachment:NN_sheme_with_biology.png)"
      ]
    },
    {
      "cell_type": "markdown",
      "metadata": {
        "id": "tmWjPF3bLRoQ"
      },
      "source": [
        "При перемножении заданных значений на веса необходимо использовать векторное произведение.\n",
        "Создать два тензора размера $2 \\times 3$ и $3 \\times 5$ и векторно перемножить их. Вывести на экран результирующий тензор и его размерность."
      ]
    },
    {
      "cell_type": "code",
      "execution_count": 21,
      "metadata": {
        "colab": {
          "base_uri": "https://localhost:8080/"
        },
        "id": "igtlHXB6LRoQ",
        "outputId": "051b04b1-194e-41ef-fafc-077dc72d0c5b"
      },
      "outputs": [
        {
          "output_type": "stream",
          "name": "stdout",
          "text": [
            "tensor([[ 0.9019, -0.0792,  0.9040,  1.0785,  0.3752],\n",
            "        [ 1.7504, -1.4021,  1.7537,  4.8733, -1.5283]]) \n",
            " torch.Size([2, 5])\n"
          ]
        }
      ],
      "source": [
        "a = torch.randn(2,3)\n",
        "b = torch.randn(3,5)\n",
        "res = a@b\n",
        "print(res,'\\n',res.shape)"
      ]
    },
    {
      "cell_type": "markdown",
      "metadata": {
        "id": "ufiKQAIQLRoR"
      },
      "source": [
        "При умножении на веса бывает необходимо транспонировать данные (поменять порядок расположения осей).\n",
        "Изменить порядок расположения осей тензора x (транспонировать) можно двумя способами: при помощи  метода T и функции transpose()."
      ]
    },
    {
      "cell_type": "code",
      "execution_count": null,
      "metadata": {
        "id": "kDPJMKzyLRoR",
        "outputId": "466e640d-0c87-457a-e1ae-ec8dd1357e6a"
      },
      "outputs": [
        {
          "name": "stdout",
          "output_type": "stream",
          "text": [
            "tensor([[-1.1434, -0.1035,  0.5756, -1.5654,  0.2323,  0.5961],\n",
            "        [ 0.1848,  0.3316, -0.1153, -0.2433,  1.0107,  0.2711]])\n",
            "tensor([[-1.1434,  0.1848],\n",
            "        [-0.1035,  0.3316],\n",
            "        [ 0.5756, -0.1153],\n",
            "        [-1.5654, -0.2433],\n",
            "        [ 0.2323,  1.0107],\n",
            "        [ 0.5961,  0.2711]])\n",
            "tensor([[-1.1434,  0.1848],\n",
            "        [-0.1035,  0.3316],\n",
            "        [ 0.5756, -0.1153],\n",
            "        [-1.5654, -0.2433],\n",
            "        [ 0.2323,  1.0107],\n",
            "        [ 0.5961,  0.2711]])\n"
          ]
        }
      ],
      "source": [
        "a = ## WRITE YOUR CODE HERE WITH T\n",
        "print(x)\n",
        "print(a)\n",
        "b = ## WRITE YOUR CODE HERE WITH TRANSPOSE\n",
        "print(b)"
      ]
    },
    {
      "cell_type": "markdown",
      "metadata": {
        "id": "Ko9TtNaMLRoR"
      },
      "source": [
        "Найти сумму всех элементов тензора a."
      ]
    },
    {
      "cell_type": "code",
      "execution_count": null,
      "metadata": {
        "id": "JC91eL6TLRoR",
        "outputId": "11c884b3-f504-4643-d630-6b9f630e0f46"
      },
      "outputs": [
        {
          "data": {
            "text/plain": [
              "tensor(0.0312)"
            ]
          },
          "execution_count": 39,
          "metadata": {},
          "output_type": "execute_result"
        }
      ],
      "source": [
        "## WRITE YOUR CODE HERE"
      ]
    },
    {
      "cell_type": "markdown",
      "metadata": {
        "id": "syWctEXwLRoS"
      },
      "source": [
        "Найти сумму всех элементов тензора a по строкам."
      ]
    },
    {
      "cell_type": "code",
      "execution_count": null,
      "metadata": {
        "id": "Yn0ntV2rLRoS",
        "outputId": "edb3b1ea-71bf-4683-c7ef-3ae4364cb0f1"
      },
      "outputs": [
        {
          "data": {
            "text/plain": [
              "tensor([-0.9586,  0.2281,  0.4603, -1.8087,  1.2429,  0.8671])"
            ]
          },
          "execution_count": 40,
          "metadata": {},
          "output_type": "execute_result"
        }
      ],
      "source": [
        "## WRITE YOUR CODE HERE"
      ]
    },
    {
      "cell_type": "markdown",
      "metadata": {
        "id": "W4E7pOQXLRoS"
      },
      "source": [
        "Найти сумму всех элементов тензора a по столбцам."
      ]
    },
    {
      "cell_type": "code",
      "execution_count": null,
      "metadata": {
        "id": "n3jk2t45LRoS",
        "outputId": "9c0032be-4679-42e2-f77c-2a120d729b07"
      },
      "outputs": [
        {
          "data": {
            "text/plain": [
              "tensor([-1.4083,  1.4395])"
            ]
          },
          "execution_count": 41,
          "metadata": {},
          "output_type": "execute_result"
        }
      ],
      "source": [
        "## WRITE YOUR CODE HERE"
      ]
    },
    {
      "cell_type": "markdown",
      "metadata": {
        "id": "DQWJfI5ALRoT"
      },
      "source": [
        "Найти максимальные значения вектора x по столбцам и строкам при помощи функции max."
      ]
    },
    {
      "cell_type": "code",
      "execution_count": null,
      "metadata": {
        "id": "V8aCWKjGLRoT",
        "outputId": "db7f5c0c-c808-470a-b564-e541feea4963"
      },
      "outputs": [
        {
          "name": "stdout",
          "output_type": "stream",
          "text": [
            "rows:\n",
            " torch.return_types.max(\n",
            "values=tensor([0.5961, 1.0107]),\n",
            "indices=tensor([5, 4])), \n",
            "columns: \n",
            " torch.return_types.max(\n",
            "values=tensor([ 0.1848,  0.3316,  0.5756, -0.2433,  1.0107,  0.5961]),\n",
            "indices=tensor([1, 1, 0, 1, 1, 0]))\n"
          ]
        }
      ],
      "source": [
        "rows = ## WRITE YOUR CODE HERE\n",
        "columns = ## WRITE YOUR CODE HERE\n",
        "print(f\"rows:\\n {rows}, \\ncolumns: \\n {columns}\".format(rows, columns))"
      ]
    },
    {
      "cell_type": "markdown",
      "metadata": {
        "id": "bVVoallMLRoT"
      },
      "source": [
        "Создать два тензора [[5, 0, 1], [6, 0, 2]] и [[2, 3, 0], [3, 4, 5]]. Найти максимум из двух тензоров на каждом месте при помощи функции maximum:"
      ]
    },
    {
      "cell_type": "code",
      "execution_count": null,
      "metadata": {
        "id": "VnE_7faeLRoT",
        "outputId": "aa51cbd9-e772-422b-8266-e5373d89962e"
      },
      "outputs": [
        {
          "data": {
            "text/plain": [
              "tensor([[5, 3, 1],\n",
              "        [6, 4, 5]])"
            ]
          },
          "execution_count": 43,
          "metadata": {},
          "output_type": "execute_result"
        }
      ],
      "source": [
        "## WRITE YOUR CODE HERE"
      ]
    },
    {
      "cell_type": "markdown",
      "metadata": {
        "id": "fD1NAtfTLRoU"
      },
      "source": [
        "В разных библиотеках наборы данных изображений обрабатываются в разных форматах:\n",
        "\n",
        "OpenCV, TensorFlow, Pillow, etc. : `Batch x Height x Width x Channels`\n",
        "\n",
        "PyTorch : `Batch x Channels x Height x Width`\n",
        "\n",
        "Поэтому периодически возникает необходимость менять местами измерения или убирать какие-то измерения."
      ]
    },
    {
      "cell_type": "markdown",
      "metadata": {
        "id": "d7KjIAT6LRoU"
      },
      "source": [
        "Создать тензор a размерности $(2, 5, 1, 8)$, заполнить его нулями и поменять местами его измерения $(0, 1, 2, 3) \\to (2, 0, 3, 1)$ при помощи функции permute:"
      ]
    },
    {
      "cell_type": "code",
      "execution_count": null,
      "metadata": {
        "id": "PO8uTxCoLRoU",
        "outputId": "33b9525e-d690-4818-984a-355b196c46a6"
      },
      "outputs": [
        {
          "name": "stdout",
          "output_type": "stream",
          "text": [
            "Original tensor size:\n",
            " torch.Size([2, 5, 1, 8])\n",
            "After permute tensor size:\n",
            " torch.Size([1, 2, 8, 5])\n"
          ]
        }
      ],
      "source": [
        "a = ## WRITE YOUR CODE HERE\n",
        "print(\"Original tensor size:\\n\", a.size())\n",
        "\n",
        "a = ## WRITE YOUR CODE HERE\n",
        "print(\"After permute tensor size:\\n\", a.size())"
      ]
    },
    {
      "cell_type": "markdown",
      "metadata": {
        "id": "bWlrfsZFLRoU"
      },
      "source": [
        "\n",
        "Создать тензор b размерности $(2, 5, 1, 8)$, заполнить его единицами и поменять местами его измерения $(0, 1, 2, 3) \\to (1, 2, 0, 3)$ при помощи функции transpose из библиотеки numpy. Вывести результат на экран:"
      ]
    },
    {
      "cell_type": "code",
      "execution_count": null,
      "metadata": {
        "id": "YYHrnSk7LRoU",
        "outputId": "03e15a8e-96c1-4daa-f96e-2d57a81d5f40"
      },
      "outputs": [
        {
          "data": {
            "text/plain": [
              "tensor([[[[1., 1., 1., 1., 1., 1., 1., 1.],\n",
              "          [1., 1., 1., 1., 1., 1., 1., 1.]]],\n",
              "\n",
              "\n",
              "        [[[1., 1., 1., 1., 1., 1., 1., 1.],\n",
              "          [1., 1., 1., 1., 1., 1., 1., 1.]]],\n",
              "\n",
              "\n",
              "        [[[1., 1., 1., 1., 1., 1., 1., 1.],\n",
              "          [1., 1., 1., 1., 1., 1., 1., 1.]]],\n",
              "\n",
              "\n",
              "        [[[1., 1., 1., 1., 1., 1., 1., 1.],\n",
              "          [1., 1., 1., 1., 1., 1., 1., 1.]]],\n",
              "\n",
              "\n",
              "        [[[1., 1., 1., 1., 1., 1., 1., 1.],\n",
              "          [1., 1., 1., 1., 1., 1., 1., 1.]]]])"
            ]
          },
          "execution_count": 45,
          "metadata": {},
          "output_type": "execute_result"
        }
      ],
      "source": [
        "b = ## WRITE YOUR CODE HERE\n",
        "## WRITE YOUR CODE HERE"
      ]
    },
    {
      "cell_type": "markdown",
      "metadata": {
        "id": "VgfGp_mdLRoV"
      },
      "source": [
        "Удалить измерение, равное 1, у вектора a при помощи функции squeeze:"
      ]
    },
    {
      "cell_type": "code",
      "execution_count": null,
      "metadata": {
        "id": "G1PP8rN2LRoV",
        "outputId": "1441ab9a-63a3-4db0-ea55-e49eefbfb68c"
      },
      "outputs": [
        {
          "name": "stdout",
          "output_type": "stream",
          "text": [
            "After squeeze tensor size:\n",
            " torch.Size([2, 8, 5])\n"
          ]
        }
      ],
      "source": [
        "a = ## WRITE YOUR CODE HERE\n",
        "print(\"After squeeze tensor size:\\n\", a.size())"
      ]
    },
    {
      "cell_type": "markdown",
      "metadata": {
        "id": "TQ29RM47LRoV"
      },
      "source": [
        "Добавить ещё одно измерение для тензора a и поставить его на место 1 при помощи функции unsqueeze:"
      ]
    },
    {
      "cell_type": "code",
      "execution_count": null,
      "metadata": {
        "id": "7Mrr2IZcLRoV",
        "outputId": "b978c23f-5db8-4aa4-9f02-e15fc69addbd"
      },
      "outputs": [
        {
          "data": {
            "text/plain": [
              "torch.Size([2, 1, 8, 5])"
            ]
          },
          "execution_count": 47,
          "metadata": {},
          "output_type": "execute_result"
        }
      ],
      "source": [
        "a = ## WRITE YOUR CODE HERE\n",
        "a.size()"
      ]
    },
    {
      "cell_type": "markdown",
      "metadata": {
        "id": "D0VmVsMNLRoW"
      },
      "source": [
        "Функция transpose может поменять местами два указанных измерения. Создать вектор размерности $2 \\times 2 \\times 3$ и поменять местами измерения 1 и 2:"
      ]
    },
    {
      "cell_type": "code",
      "execution_count": null,
      "metadata": {
        "id": "iPw9cAqJLRoW",
        "outputId": "c62730a1-d63d-4241-ea71-8f0e6a50e13b"
      },
      "outputs": [
        {
          "name": "stdout",
          "output_type": "stream",
          "text": [
            "t:  tensor([[[-0.0832, -0.9837, -1.2494],\n",
            "         [-0.1883,  0.2827,  0.1305]],\n",
            "\n",
            "        [[ 0.3303, -0.0773, -0.9224],\n",
            "         [-1.8941,  1.0056, -0.6948]]])\n",
            "t transpose:  tensor([[[-0.0832, -0.1883],\n",
            "         [-0.9837,  0.2827],\n",
            "         [-1.2494,  0.1305]],\n",
            "\n",
            "        [[ 0.3303, -1.8941],\n",
            "         [-0.0773,  1.0056],\n",
            "         [-0.9224, -0.6948]]])\n"
          ]
        }
      ],
      "source": [
        "t = ## WRITE YOUR CODE HERE\n",
        "print('t: ', t)\n",
        "print('t transpose: ', ## WRITE YOUR CODE HERE)"
      ]
    },
    {
      "cell_type": "markdown",
      "metadata": {
        "id": "rTLPSzj7LRoW"
      },
      "source": [
        "Для подсчёта точности модели бывает необходимо сравнить совпадение вектора с метками данных с выходными (предсказанными значениями).\n",
        "Посчитать количество совпадений (на одинаковых местах одинаковые числа) для двух векторов [9, 4, 3, 9, 6] и [5, 4, 5, 9, 4]."
      ]
    },
    {
      "cell_type": "code",
      "execution_count": null,
      "metadata": {
        "id": "kZmT7ebuLRoW",
        "outputId": "52764953-f4a2-4414-fc1d-fdfbd620f365"
      },
      "outputs": [
        {
          "data": {
            "text/plain": [
              "tensor(2)"
            ]
          },
          "execution_count": 49,
          "metadata": {},
          "output_type": "execute_result"
        }
      ],
      "source": [
        "## WRITE YOUR CODE HERE"
      ]
    },
    {
      "cell_type": "markdown",
      "metadata": {
        "id": "z20RvbKLLRoX"
      },
      "source": [
        "Чтобы обратиться к элементу тензора, надо указать в скобках его индекс, но в таком случае получим tensor(int). Чтобы получить значение элемента, надо использовать метод item.\n",
        "Создать тензор $[6, 6, 7, 2, 7, 9, 1, 5]$ и найти его 2й элемент, и значение 2го элемента:"
      ]
    },
    {
      "cell_type": "code",
      "execution_count": null,
      "metadata": {
        "id": "hk2K0wuuLRoY",
        "outputId": "8cedfed1-16c6-44a6-bad1-f168d5c0ced3"
      },
      "outputs": [
        {
          "name": "stdout",
          "output_type": "stream",
          "text": [
            "tensor(7)\n",
            "7\n"
          ]
        }
      ],
      "source": [
        "l = ## WRITE YOUR CODE HERE\n",
        "print(## WRITE YOUR CODE HERE)\n",
        "print(## WRITE YOUR CODE HERE)"
      ]
    },
    {
      "cell_type": "code",
      "execution_count": null,
      "metadata": {
        "id": "M2QGzR9hLRoZ"
      },
      "outputs": [],
      "source": []
    }
  ],
  "metadata": {
    "kernelspec": {
      "display_name": "Python 3 (ipykernel)",
      "language": "python",
      "name": "python3"
    },
    "language_info": {
      "codemirror_mode": {
        "name": "ipython",
        "version": 3
      },
      "file_extension": ".py",
      "mimetype": "text/x-python",
      "name": "python",
      "nbconvert_exporter": "python",
      "pygments_lexer": "ipython3",
      "version": "3.11.4"
    },
    "colab": {
      "provenance": [],
      "include_colab_link": true
    }
  },
  "nbformat": 4,
  "nbformat_minor": 0
}